{
  "cells": [
    {
      "cell_type": "markdown",
      "metadata": {
        "id": "view-in-github",
        "colab_type": "text"
      },
      "source": [
        "<a href=\"https://colab.research.google.com/github/AlexCHEN-Engineer/CEE314HW/blob/main/CEE314Problemsets5Q4Teaching.ipynb\" target=\"_parent\"><img src=\"https://colab.research.google.com/assets/colab-badge.svg\" alt=\"Open In Colab\"/></a>"
      ]
    },
    {
      "cell_type": "code",
      "execution_count": null,
      "metadata": {
        "id": "mediterranean-century"
      },
      "outputs": [],
      "source": [
        "%%capture\n",
        "# Do not revise here. \n",
        "try:\n",
        "    import google.colab\n",
        "except ImportError:\n",
        "    import ufl\n",
        "    import dolfin\n",
        "    import mshr\n",
        "else:\n",
        "    try:\n",
        "        import ufl\n",
        "        import dolfin\n",
        "        import mshr\n",
        "    except ImportError:\n",
        "        !wget \"https://fem-on-colab.github.io/releases/fenics-install.sh\" -O \"/tmp/fenics-install.sh\" && bash \"/tmp/fenics-install.sh\"\n",
        "        import ufl\n",
        "        import dolfin\n",
        "        import mshr"
      ],
      "id": "mediterranean-century"
    },
    {
      "cell_type": "markdown",
      "source": [
        "# Variational formulation\n",
        "\n",
        "In this part, we will solve a coupled poromechanics problems.\n",
        "\n",
        "For a domain denoted as $\\Omega$, the boundary is $\\Gamma = \\Gamma_u\\cup \\Gamma_t = \\Gamma_p\\cup\\Gamma_q$, $\\Gamma_u\\cap \\Gamma_t=\\phi$ and $\\Gamma_p\\cup\\Gamma_q=\\phi$. \n",
        "\n",
        "The strong form can be expressed as:\n",
        "\\begin{equation}\n",
        "\\begin{aligned}\n",
        "&\\nabla\\cdot(\\boldsymbol{\\sigma}^\\prime-p\\boldsymbol{1})+\\rho\\boldsymbol{g}=\\boldsymbol{0},   \\\\\n",
        "&\\nabla⋅\\dot{\\boldsymbol{u}}+\\nabla⋅{\\boldsymbol{q}}=0, \\\\\n",
        "& \\boldsymbol{u} = \\overline{\\boldsymbol{u}}\\quad on \\quad \\Gamma_u, \\\\\n",
        "& \\boldsymbol{\\sigma}^\\prime\\cdot\\boldsymbol{n} = \\overline{\\boldsymbol{t}}\\quad on\\quad \\Gamma_t, \\\\\n",
        "& p = \\overline{p}\\quad on \\quad \\Gamma_p, \\\\\n",
        "& \\boldsymbol{q}\\cdot \\boldsymbol{n} = \\overline{q}\\quad on \\quad \\Gamma_q.\n",
        "\\end{aligned}\n",
        "\\end{equation}\n",
        "\n",
        "As for the constitutive equations, we need to refer to\n",
        "\\begin{equation}\n",
        "\\begin{aligned}\n",
        "& \\boldsymbol{\\sigma}^\\prime = \\mathbb{C}^e:\\boldsymbol{\\epsilon} ,\\\\\n",
        "& \\boldsymbol{q} = -\\frac{\\boldsymbol{\\kappa}}{\\mu_f}\\cdot \\nabla p.\n",
        "\\end{aligned}\n",
        "\\end{equation}\n"
      ],
      "metadata": {
        "id": "P2bXKmcEqOJN"
      },
      "id": "P2bXKmcEqOJN"
    },
    {
      "cell_type": "markdown",
      "source": [
        "## Derive the weak form\n",
        "\n",
        "The trial space is defined as \n",
        "\\begin{equation}\n",
        "\\begin{aligned}\n",
        "& S_u = \\{\\boldsymbol{u}:\\Omega→\\mathbb{R}^{ndim}|\\boldsymbol{u}→\\boldsymbol{H}^1,\\ \\boldsymbol{u}=\\overline{\\boldsymbol{u}}\\quad on \\quad \\Gamma_u \\} ,\\\\\n",
        "&S_p = \\{p:\\Omega→\\mathbb{R}|p→H^1,\\ p=\\overline{p}\\quad on \\quad \\Gamma_p \\}\n",
        "\\end{aligned}\n",
        "\\end{equation}\n",
        "\n",
        "For the weighting space,\n",
        "\\begin{equation}\n",
        "\\begin{aligned}\n",
        "& V_u = \\{\\boldsymbol{\\eta}:\\Omega→\\mathbb{R}^{ndim}|\\boldsymbol{\\eta}→\\boldsymbol{H}^1,\\ \\boldsymbol{\\eta}={\\boldsymbol{0}}\\quad on \\quad \\Gamma_u \\} ,\\\\\n",
        "&V_\\psi = \\{\\psi:\\Omega→\\mathbb{R}|\\psi→H^1,\\ \\psi=0\\quad on \\quad \\Gamma_\\psi \\}\n",
        "\\end{aligned}\n",
        "\\end{equation}\n"
      ],
      "metadata": {
        "id": "MLHKWGvgv_Cg"
      },
      "id": "MLHKWGvgv_Cg"
    },
    {
      "cell_type": "markdown",
      "source": [
        "The weak form becomes:\n",
        "\\begin{equation}\n",
        "\\begin{aligned}\n",
        "& \\mathcal{G}_1 = \\int_{\\Omega}(\\nabla^s\\boldsymbol{\\eta}:\\boldsymbol{\\sigma}^\\prime-p\\nabla\\cdot\\boldsymbol{\\eta}-\\boldsymbol{\\eta}\\cdot{\\rho}\\boldsymbol{g})dV - \\int_{\\Gamma_t}\\boldsymbol{\\eta}\\cdot\\overline{\\boldsymbol{t}}dA = \\boldsymbol{0} \\\\\n",
        "& \\mathcal{G}_2 = \\int_{\\Omega}(\\psi\\nabla\\cdot\\dot{\\boldsymbol{u}}-\\nabla \\psi\\cdot \\boldsymbol{q})dV + \\int_{\\Gamma_q} \\psi\\bar{q}dA\\\\\n",
        "\\end{aligned}\n",
        "\\end{equation}"
      ],
      "metadata": {
        "id": "62rA3t9lxyo6"
      },
      "id": "62rA3t9lxyo6"
    },
    {
      "cell_type": "markdown",
      "metadata": {
        "id": "yWGBMCZ5jAX2"
      },
      "source": [
        "# Import necessary library"
      ],
      "id": "yWGBMCZ5jAX2"
    },
    {
      "cell_type": "code",
      "execution_count": null,
      "metadata": {
        "id": "infectious-train"
      },
      "outputs": [],
      "source": [
        "from fenics import *\n",
        "from mshr import *\n",
        "from ufl import nabla_div"
      ],
      "id": "infectious-train"
    },
    {
      "cell_type": "markdown",
      "source": [
        "# Parameters\n",
        "\n",
        "For the conversion between elastic modulus, refer to this [wiki page](https://en.wikipedia.org/wiki/Elastic_modulus)."
      ],
      "metadata": {
        "id": "PsmZYVTj5Fd3"
      },
      "id": "PsmZYVTj5Fd3"
    },
    {
      "cell_type": "code",
      "source": [
        "##############################\n",
        "## TODO: Set the parameters ##\n",
        "##############################\n",
        "# You need to set different parameters to run the simulation!\n",
        "# T = 1\n",
        "# num_steps = 100\n",
        "\n",
        "dt = T / (1.0*num_steps) #time step size\n",
        "\n",
        "rho_l = 1000\n",
        "\n",
        "E = 10.e7 #Pa\n",
        "nu = 0\n",
        "k = 1.15740741e-10 \t#intrinsic permeability\n",
        "mu_l = 1e-2 \t#dynamic viscosity\n",
        "\n",
        "lambda_= E*nu/(1+nu)/(1-2*nu)\n",
        "mu = E/2/(1+nu);"
      ],
      "metadata": {
        "id": "4Au2rvfqZMTc"
      },
      "id": "4Au2rvfqZMTc",
      "execution_count": null,
      "outputs": []
    },
    {
      "cell_type": "code",
      "source": [
        "# Create mesh and define expression\n",
        "# Parameters\n",
        "R = 1.\n",
        "# Create geometry\n",
        "s = Sphere(Point(0, 0, 0), 1)\n",
        "# s2 = Sphere(Point(x, y, z), r)\n",
        "b1 = Box(Point(0., 0., 0.), Point(1., 1., 1.))\n",
        "geometry = s*b1\n",
        "# Create mesh\n",
        "mesh = generate_mesh(geometry, 15)\n",
        "plot(mesh)"
      ],
      "metadata": {
        "colab": {
          "base_uri": "https://localhost:8080/",
          "height": 248
        },
        "id": "MffHpj3RrAzL",
        "outputId": "bf875d35-c65f-4010-f65d-820fc0f96657"
      },
      "id": "MffHpj3RrAzL",
      "execution_count": null,
      "outputs": [
        {
          "output_type": "display_data",
          "data": {
            "text/plain": [
              "<Figure size 432x288 with 1 Axes>"
            ],
            "image/png": "[encoded data removed]"
          },
          "metadata": {
            "needs_background": "light"
          }
        }
      ]
    },
    {
      "cell_type": "code",
      "source": [
        "outer =  CompiledSubDomain(\"x[0]*x[0] + x[1]*x[1] + x[2]*x[2] > 0.9\")\n",
        "cutX =  CompiledSubDomain(\"near(x[0], side)\", side = 0.0)\n",
        "cutY =  CompiledSubDomain(\"near(x[1], side)\", side = 0.0)\n",
        "cutZ = CompiledSubDomain(\"near(x[2], side)\", side = 0.0)\n",
        "\n",
        "boundary = MeshFunction('size_t', mesh, mesh.topology().dim()-1)\n",
        "boundary.set_all(1)\n",
        "outer.mark(boundary, 2)\n",
        "ds = Measure('ds', domain = mesh, subdomain_data = boundary)\n",
        "\n",
        "\n",
        "T  = 100 * Expression(('-x[0]', '-x[1]','-x[2]'), degree=1)  # Load on the boundary\n",
        "\n",
        "#Define Mixed Space (R2,R) -> (u,p)\n",
        "V = VectorElement(\"CG\", mesh.ufl_cell(), 2)\n",
        "W = FiniteElement(\"CG\", mesh.ufl_cell(), 1)\n",
        "L = FunctionSpace(mesh,W)\n",
        "MS = dolfin.FunctionSpace(mesh, MixedElement([V,W]))\n",
        "\n",
        "# Define boundary condition\n",
        "bcu1 = DirichletBC(MS.sub(0).sub(0), 0.0, cutX)  # slip condition\n",
        "bcu2 = DirichletBC(MS.sub(0).sub(1), 0.0, cutY)  # slip condition\n",
        "bcu3 = DirichletBC(MS.sub(0).sub(2), 0.0, cutZ)  # slip condition\n",
        "bcp = DirichletBC(MS.sub(1), 0.0, outer) # drained condition\n",
        "bc=[bcu1,bcu2,bcu3,bcp]\n",
        "\n",
        "# Define strain\n",
        "def epsilon(u):\n",
        "    return 0.5*(nabla_grad(u) + nabla_grad(u).T)\n",
        "\n",
        "def sigma(u):\n",
        "   return lambda_ * tr(epsilon(u))*Identity(3) + 2.0*mu*epsilon(u)\n",
        "\n",
        "# Define variational problem and initial condition\n",
        "X0 = Function(MS)\n",
        "B = TestFunction(MS)\n",
        "\n",
        "e_u0 = Expression(('0.0', '0.0', '0.0'), degree=1)\n",
        "e_p0 = Expression('0.0', degree=1)\n",
        "\n",
        "u0 = interpolate(e_u0, MS.sub(0).collapse())\n",
        "p0 = interpolate(e_p0, MS.sub(1).collapse())\n",
        "\n",
        "Xn = Function(MS)\n",
        "assign(Xn, [u0, p0])\n",
        "\n",
        "(u, p)=split(X0)\n",
        "(u_n, p_n)=split(Xn)\n",
        "(v, q)=split(B)\n",
        "\n",
        "# n = FacetNormal(mesh)\n",
        "\n",
        "F = nabla_div(u-u_n)*q*dx + dt*(k/(mu_l))*dot(grad(p), grad(q))*dx \n",
        "F += inner(sigma(u), epsilon(v))*dx  - p*nabla_div(v)*dx - dot(T,v)*ds(2)\n",
        "\n",
        "\n",
        "#solver tuning\n",
        "dX0 = TrialFunction(MS)\n",
        "J = derivative(F, X0, dX0)\n",
        "Problem = NonlinearVariationalProblem(F, X0, J = J, bcs = bc)\n",
        "Solver  = NonlinearVariationalSolver(Problem)\n",
        "Solver.parameters['newton_solver']['convergence_criterion'] = 'incremental'\n",
        "Solver.parameters['newton_solver']['relative_tolerance'] = 1.e-11\n",
        "Solver.parameters['newton_solver']['absolute_tolerance'] = 5.e-10\n",
        "\n",
        "#if you want to store the results\n",
        "#vtkfile_u = File('Sphere/u.pvd')\n",
        "#vtkfile_p = File('Sphere/p.pvd')\n",
        "\n",
        "t = 0\n",
        "\n",
        "p_out = []\n",
        "\n",
        "from tqdm import tqdm_notebook\n",
        "for n in tqdm_notebook(range(num_steps)):\n",
        "\tt += dt\n",
        "\tSolver.solve()    \n",
        "\tassign(Xn,X0)\n",
        "\n",
        "\t(_u,_p)=X0.split()\n",
        "\tp_out.append(_p(0, 0, 0))\n",
        "\t#vtkfile_u << (_u,t)\n",
        "\t#vtkfile_p << (_p,t)"
      ],
      "metadata": {
        "id": "pw-EBzjqQiha",
        "colab": {
          "base_uri": "https://localhost:8080/",
          "height": 85,
          "referenced_widgets": [
            "107af0031cab4bf8b2f35951bbf3e14e",
            "f32ef66982e1480a828dc42ca29c875a",
            "6356aff35db74c0fa245258334cec34a",
            "2c5081706ccd4a75b4d7de76d889a056",
            "133abf7487d146d0b73958613e6e94ff",
            "a46c43130f54435082333ee068dd30f9",
            "d5feeb6598a94f2a890d6a1a2cc1c445",
            "9dad74387a514e8183f2604fc1c1594c",
            "f5f2e8d82ea24237a8f3aa91335bf1fb",
            "83dd97c3c9634b129eb23726dfc9f577",
            "ffb902df3892430fb644944e7b4638a3"
          ]
        },
        "outputId": "4c08f211-a302-4ad1-9af9-f54a60c388a4"
      },
      "id": "pw-EBzjqQiha",
      "execution_count": null,
      "outputs": [
        {
          "output_type": "stream",
          "name": "stderr",
          "text": [
            "/usr/local/lib/python3.7/dist-packages/ipykernel_launcher.py:75: TqdmDeprecationWarning: This function will be removed in tqdm==5.0.0\n",
            "Please use `tqdm.notebook.tqdm` instead of `tqdm.tqdm_notebook`\n"
          ]
        },
        {
          "output_type": "display_data",
          "data": {
            "text/plain": [
              "  0%|          | 0/100 [00:00<?, ?it/s]"
            ],
            "application/vnd.jupyter.widget-view+json": {
              "version_major": 2,
              "version_minor": 0,
              "model_id": "107af0031cab4bf8b2f35951bbf3e14e"
            }
          },
          "metadata": {}
        }
      ]
    },
    {
      "cell_type": "code",
      "source": [
        "u_result, p_result = X0.split()\n",
        "import matplotlib.pyplot as plt\n",
        "c=plot(p_result)\n",
        "plt.colorbar(c)\n",
        "plt.show()"
      ],
      "metadata": {
        "id": "G0dWBTs8TB3q",
        "colab": {
          "base_uri": "https://localhost:8080/",
          "height": 254
        },
        "outputId": "6e062fda-6e10-4f2b-e001-19334b3c7c26"
      },
      "id": "G0dWBTs8TB3q",
      "execution_count": null,
      "outputs": [
        {
          "output_type": "display_data",
          "data": {
            "text/plain": [
              "<Figure size 432x288 with 2 Axes>"
            ],
            "image/png": "[encoded data removed]"
          },
          "metadata": {
            "needs_background": "light"
          }
        }
      ]
    },
    {
      "cell_type": "markdown",
      "source": [
        "# Postprocess"
      ],
      "metadata": {
        "id": "bZFw87laa7Tp"
      },
      "id": "bZFw87laa7Tp"
    },
    {
      "cell_type": "code",
      "source": [
        "# Use the following method to zip the file.\n",
        "!zip -r 'Sphere.zip' '/content/Sphere' "
      ],
      "metadata": {
        "id": "joHFy9lSTN27",
        "colab": {
          "base_uri": "https://localhost:8080/"
        },
        "outputId": "28ae2a9c-b760-4d0a-f277-580120ccf31e"
      },
      "id": "joHFy9lSTN27",
      "execution_count": null,
      "outputs": [
        {
          "output_type": "stream",
          "name": "stdout",
          "text": [
            "updating: content/Sphere/ (stored 0%)\n",
            "updating: content/Sphere/u.pvd (deflated 29%)\n",
            "updating: content/Sphere/u000000.vtu (deflated 63%)\n",
            "updating: content/Sphere/p000000.vtu (deflated 64%)\n",
            "updating: content/Sphere/p.pvd (deflated 29%)\n"
          ]
        }
      ]
    },
    {
      "cell_type": "markdown",
      "source": [
        "## 4(b)"
      ],
      "metadata": {
        "id": "rtxvdCroiuq_"
      },
      "id": "rtxvdCroiuq_"
    },
    {
      "cell_type": "code",
      "source": [
        "import numpy as np\n",
        "import matplotlib.pyplot as plt\n",
        "time = np.linspace(0,1,100)\n",
        "pressure = np.array(p_out)\n",
        "plt.xlabel(r\"$t$\")\n",
        "plt.ylabel(r\"$p$\")\n",
        "plt.semilogx(100/9.8*1*time/4, pressure, 'k')"
      ],
      "metadata": {
        "id": "BgAwNRBDfINY",
        "outputId": "9e9b4f36-c209-4800-a222-ed60dc33f4ca",
        "colab": {
          "base_uri": "https://localhost:8080/",
          "height": 303
        }
      },
      "id": "BgAwNRBDfINY",
      "execution_count": null,
      "outputs": [
        {
          "output_type": "execute_result",
          "data": {
            "text/plain": [
              "[<matplotlib.lines.Line2D at 0x7f40195af990>]"
            ]
          },
          "metadata": {},
          "execution_count": 69
        },
        {
          "output_type": "display_data",
          "data": {
            "text/plain": [
              "<Figure size 432x288 with 1 Axes>"
            ],
            "image/png": "[encoded data removed]"
          },
          "metadata": {
            "needs_background": "light"
          }
        }
      ]
    },
    {
      "cell_type": "code",
      "source": [
        ""
      ],
      "metadata": {
        "id": "Zp1Rs8homNZ9"
      },
      "id": "Zp1Rs8homNZ9",
      "execution_count": null,
      "outputs": []
    }
  ],
  "metadata": {
    "colab": {
      "machine_shape": "hm",
      "name": "CEE314Problemsets5Q4Teaching.ipynb",
      "provenance": [],
      "include_colab_link": true
    },
    "kernelspec": {
      "display_name": "Python 3 (ipykernel)",
      "language": "python",
      "name": "python3"
    },
    "language_info": {
      "codemirror_mode": {
        "name": "ipython"
      },
      "file_extension": ".py",
      "mimetype": "text/x-python",
      "name": "python",
      "nbconvert_exporter": "python"
    },
    "accelerator": "TPU",
    "widgets": {
      "application/vnd.jupyter.widget-state+json": {
        "107af0031cab4bf8b2f35951bbf3e14e": {
          "model_module": "@jupyter-widgets/controls",
          "model_name": "HBoxModel",
          "model_module_version": "1.5.0",
          "state": {
            "_dom_classes": [],
            "_model_module": "@jupyter-widgets/controls",
            "_model_module_version": "1.5.0",
            "_model_name": "HBoxModel",
            "_view_count": null,
            "_view_module": "@jupyter-widgets/controls",
            "_view_module_version": "1.5.0",
            "_view_name": "HBoxView",
            "box_style": "",
            "children": [
              "IPY_MODEL_f32ef66982e1480a828dc42ca29c875a",
              "IPY_MODEL_6356aff35db74c0fa245258334cec34a",
              "IPY_MODEL_2c5081706ccd4a75b4d7de76d889a056"
            ],
            "layout": "IPY_MODEL_133abf7487d146d0b73958613e6e94ff"
          }
        },
        "f32ef66982e1480a828dc42ca29c875a": {
          "model_module": "@jupyter-widgets/controls",
          "model_name": "HTMLModel",
          "model_module_version": "1.5.0",
          "state": {
            "_dom_classes": [],
            "_model_module": "@jupyter-widgets/controls",
            "_model_module_version": "1.5.0",
            "_model_name": "HTMLModel",
            "_view_count": null,
            "_view_module": "@jupyter-widgets/controls",
            "_view_module_version": "1.5.0",
            "_view_name": "HTMLView",
            "description": "",
            "description_tooltip": null,
            "layout": "IPY_MODEL_a46c43130f54435082333ee068dd30f9",
            "placeholder": "​",
            "style": "IPY_MODEL_d5feeb6598a94f2a890d6a1a2cc1c445",
            "value": "100%"
          }
        },
        "6356aff35db74c0fa245258334cec34a": {
          "model_module": "@jupyter-widgets/controls",
          "model_name": "FloatProgressModel",
          "model_module_version": "1.5.0",
          "state": {
            "_dom_classes": [],
            "_model_module": "@jupyter-widgets/controls",
            "_model_module_version": "1.5.0",
            "_model_name": "FloatProgressModel",
            "_view_count": null,
            "_view_module": "@jupyter-widgets/controls",
            "_view_module_version": "1.5.0",
            "_view_name": "ProgressView",
            "bar_style": "success",
            "description": "",
            "description_tooltip": null,
            "layout": "IPY_MODEL_9dad74387a514e8183f2604fc1c1594c",
            "max": 100,
            "min": 0,
            "orientation": "horizontal",
            "style": "IPY_MODEL_f5f2e8d82ea24237a8f3aa91335bf1fb",
            "value": 100
          }
        },
        "2c5081706ccd4a75b4d7de76d889a056": {
          "model_module": "@jupyter-widgets/controls",
          "model_name": "HTMLModel",
          "model_module_version": "1.5.0",
          "state": {
            "_dom_classes": [],
            "_model_module": "@jupyter-widgets/controls",
            "_model_module_version": "1.5.0",
            "_model_name": "HTMLModel",
            "_view_count": null,
            "_view_module": "@jupyter-widgets/controls",
            "_view_module_version": "1.5.0",
            "_view_name": "HTMLView",
            "description": "",
            "description_tooltip": null,
            "layout": "IPY_MODEL_83dd97c3c9634b129eb23726dfc9f577",
            "placeholder": "​",
            "style": "IPY_MODEL_ffb902df3892430fb644944e7b4638a3",
            "value": " 100/100 [01:39&lt;00:00,  1.06it/s]"
          }
        },
        "133abf7487d146d0b73958613e6e94ff": {
          "model_module": "@jupyter-widgets/base",
          "model_name": "LayoutModel",
          "model_module_version": "1.2.0",
          "state": {
            "_model_module": "@jupyter-widgets/base",
            "_model_module_version": "1.2.0",
            "_model_name": "LayoutModel",
            "_view_count": null,
            "_view_module": "@jupyter-widgets/base",
            "_view_module_version": "1.2.0",
            "_view_name": "LayoutView",
            "align_content": null,
            "align_items": null,
            "align_self": null,
            "border": null,
            "bottom": null,
            "display": null,
            "flex": null,
            "flex_flow": null,
            "grid_area": null,
            "grid_auto_columns": null,
            "grid_auto_flow": null,
            "grid_auto_rows": null,
            "grid_column": null,
            "grid_gap": null,
            "grid_row": null,
            "grid_template_areas": null,
            "grid_template_columns": null,
            "grid_template_rows": null,
            "height": null,
            "justify_content": null,
            "justify_items": null,
            "left": null,
            "margin": null,
            "max_height": null,
            "max_width": null,
            "min_height": null,
            "min_width": null,
            "object_fit": null,
            "object_position": null,
            "order": null,
            "overflow": null,
            "overflow_x": null,
            "overflow_y": null,
            "padding": null,
            "right": null,
            "top": null,
            "visibility": null,
            "width": null
          }
        },
        "a46c43130f54435082333ee068dd30f9": {
          "model_module": "@jupyter-widgets/base",
          "model_name": "LayoutModel",
          "model_module_version": "1.2.0",
          "state": {
            "_model_module": "@jupyter-widgets/base",
            "_model_module_version": "1.2.0",
            "_model_name": "LayoutModel",
            "_view_count": null,
            "_view_module": "@jupyter-widgets/base",
            "_view_module_version": "1.2.0",
            "_view_name": "LayoutView",
            "align_content": null,
            "align_items": null,
            "align_self": null,
            "border": null,
            "bottom": null,
            "display": null,
            "flex": null,
            "flex_flow": null,
            "grid_area": null,
            "grid_auto_columns": null,
            "grid_auto_flow": null,
            "grid_auto_rows": null,
            "grid_column": null,
            "grid_gap": null,
            "grid_row": null,
            "grid_template_areas": null,
            "grid_template_columns": null,
            "grid_template_rows": null,
            "height": null,
            "justify_content": null,
            "justify_items": null,
            "left": null,
            "margin": null,
            "max_height": null,
            "max_width": null,
            "min_height": null,
            "min_width": null,
            "object_fit": null,
            "object_position": null,
            "order": null,
            "overflow": null,
            "overflow_x": null,
            "overflow_y": null,
            "padding": null,
            "right": null,
            "top": null,
            "visibility": null,
            "width": null
          }
        },
        "d5feeb6598a94f2a890d6a1a2cc1c445": {
          "model_module": "@jupyter-widgets/controls",
          "model_name": "DescriptionStyleModel",
          "model_module_version": "1.5.0",
          "state": {
            "_model_module": "@jupyter-widgets/controls",
            "_model_module_version": "1.5.0",
            "_model_name": "DescriptionStyleModel",
            "_view_count": null,
            "_view_module": "@jupyter-widgets/base",
            "_view_module_version": "1.2.0",
            "_view_name": "StyleView",
            "description_width": ""
          }
        },
        "9dad74387a514e8183f2604fc1c1594c": {
          "model_module": "@jupyter-widgets/base",
          "model_name": "LayoutModel",
          "model_module_version": "1.2.0",
          "state": {
            "_model_module": "@jupyter-widgets/base",
            "_model_module_version": "1.2.0",
            "_model_name": "LayoutModel",
            "_view_count": null,
            "_view_module": "@jupyter-widgets/base",
            "_view_module_version": "1.2.0",
            "_view_name": "LayoutView",
            "align_content": null,
            "align_items": null,
            "align_self": null,
            "border": null,
            "bottom": null,
            "display": null,
            "flex": null,
            "flex_flow": null,
            "grid_area": null,
            "grid_auto_columns": null,
            "grid_auto_flow": null,
            "grid_auto_rows": null,
            "grid_column": null,
            "grid_gap": null,
            "grid_row": null,
            "grid_template_areas": null,
            "grid_template_columns": null,
            "grid_template_rows": null,
            "height": null,
            "justify_content": null,
            "justify_items": null,
            "left": null,
            "margin": null,
            "max_height": null,
            "max_width": null,
            "min_height": null,
            "min_width": null,
            "object_fit": null,
            "object_position": null,
            "order": null,
            "overflow": null,
            "overflow_x": null,
            "overflow_y": null,
            "padding": null,
            "right": null,
            "top": null,
            "visibility": null,
            "width": null
          }
        },
        "f5f2e8d82ea24237a8f3aa91335bf1fb": {
          "model_module": "@jupyter-widgets/controls",
          "model_name": "ProgressStyleModel",
          "model_module_version": "1.5.0",
          "state": {
            "_model_module": "@jupyter-widgets/controls",
            "_model_module_version": "1.5.0",
            "_model_name": "ProgressStyleModel",
            "_view_count": null,
            "_view_module": "@jupyter-widgets/base",
            "_view_module_version": "1.2.0",
            "_view_name": "StyleView",
            "bar_color": null,
            "description_width": ""
          }
        },
        "83dd97c3c9634b129eb23726dfc9f577": {
          "model_module": "@jupyter-widgets/base",
          "model_name": "LayoutModel",
          "model_module_version": "1.2.0",
          "state": {
            "_model_module": "@jupyter-widgets/base",
            "_model_module_version": "1.2.0",
            "_model_name": "LayoutModel",
            "_view_count": null,
            "_view_module": "@jupyter-widgets/base",
            "_view_module_version": "1.2.0",
            "_view_name": "LayoutView",
            "align_content": null,
            "align_items": null,
            "align_self": null,
            "border": null,
            "bottom": null,
            "display": null,
            "flex": null,
            "flex_flow": null,
            "grid_area": null,
            "grid_auto_columns": null,
            "grid_auto_flow": null,
            "grid_auto_rows": null,
            "grid_column": null,
            "grid_gap": null,
            "grid_row": null,
            "grid_template_areas": null,
            "grid_template_columns": null,
            "grid_template_rows": null,
            "height": null,
            "justify_content": null,
            "justify_items": null,
            "left": null,
            "margin": null,
            "max_height": null,
            "max_width": null,
            "min_height": null,
            "min_width": null,
            "object_fit": null,
            "object_position": null,
            "order": null,
            "overflow": null,
            "overflow_x": null,
            "overflow_y": null,
            "padding": null,
            "right": null,
            "top": null,
            "visibility": null,
            "width": null
          }
        },
        "ffb902df3892430fb644944e7b4638a3": {
          "model_module": "@jupyter-widgets/controls",
          "model_name": "DescriptionStyleModel",
          "model_module_version": "1.5.0",
          "state": {
            "_model_module": "@jupyter-widgets/controls",
            "_model_module_version": "1.5.0",
            "_model_name": "DescriptionStyleModel",
            "_view_count": null,
            "_view_module": "@jupyter-widgets/base",
            "_view_module_version": "1.2.0",
            "_view_name": "StyleView",
            "description_width": ""
          }
        }
      }
    }
  },
  "nbformat": 4,
  "nbformat_minor": 5
}