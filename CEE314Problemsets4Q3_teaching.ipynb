{
  "cells": [
    {
      "cell_type": "markdown",
      "metadata": {
        "id": "view-in-github",
        "colab_type": "text"
      },
      "source": [
        "<a href=\"https://colab.research.google.com/github/AlexCHEN-Engineer/CEE314HW/blob/main/CEE314Problemsets4Q3_teaching.ipynb\" target=\"_parent\"><img src=\"https://colab.research.google.com/assets/colab-badge.svg\" alt=\"Open In Colab\"/></a>"
      ]
    },
    {
      "cell_type": "code",
      "execution_count": null,
      "metadata": {
        "id": "mediterranean-century"
      },
      "outputs": [],
      "source": [
        "%time\n",
        "# Do not revise here. \n",
        "try:\n",
        "    import google.colab\n",
        "except ImportError:\n",
        "    import ufl\n",
        "    import dolfin\n",
        "    import mshr\n",
        "else:\n",
        "    try:\n",
        "        import ufl\n",
        "        import dolfin\n",
        "        import mshr\n",
        "    except ImportError:\n",
        "        !wget \"https://fem-on-colab.github.io/releases/fenics-install.sh\" -O \"/tmp/fenics-install.sh\" && bash \"/tmp/fenics-install.sh\"\n",
        "        import ufl\n",
        "        import dolfin\n",
        "        import mshr"
      ],
      "id": "mediterranean-century"
    },
    {
      "cell_type": "markdown",
      "source": [
        "# Variational formulation\n",
        "\n",
        "In this part, we will solve a coupled poromechanics problems.\n",
        "\n",
        "For a domain denoted as $\\Omega$, the boundary is $\\Gamma = \\Gamma_u\\cup \\Gamma_t = \\Gamma_p\\cup\\Gamma_q$, $\\Gamma_u\\cap \\Gamma_t=\\phi$ and $\\Gamma_p\\cup\\Gamma_q=\\phi$. \n",
        "\n",
        "The strong form can be expressed as:\n",
        "\\begin{equation}\n",
        "\\begin{aligned}\n",
        "&\\nabla(\\boldsymbol{\\sigma}^\\prime-p\\boldsymbol{1})+\\rho\\boldsymbol{g}=\\boldsymbol{0},   \\\\\n",
        "&\\nabla⋅\\dot{\\boldsymbol{u}}+\\nabla⋅{\\boldsymbol{q}}=0, \\\\\n",
        "& \\boldsymbol{u} = \\overline{\\boldsymbol{u}}\\quad on \\quad \\Gamma_u, \\\\\n",
        "& \\boldsymbol{\\sigma}^\\prime\\cdot\\boldsymbol{n} = \\overline{\\boldsymbol{t}}\\quad on\\quad \\Gamma_t, \\\\\n",
        "& p = \\overline{p}\\quad on \\quad \\Gamma_p, \\\\\n",
        "& \\boldsymbol{q}\\cdot \\boldsymbol{n} = \\overline{q}\\quad on \\quad \\Gamma_q.\n",
        "\\end{aligned}\n",
        "\\end{equation}\n",
        "\n",
        "As for the constitutive equations, we need to refer to\n",
        "\\begin{equation}\n",
        "\\begin{aligned}\n",
        "& \\boldsymbol{\\sigma}^\\prime = \\mathbb{C}^e:\\boldsymbol{\\epsilon} ,\\\\\n",
        "& \\boldsymbol{q} = -\\frac{\\boldsymbol{\\kappa}}{\\mu_f}\\cdot \\nabla p.\n",
        "\\end{aligned}\n",
        "\\end{equation}\n"
      ],
      "metadata": {
        "id": "P2bXKmcEqOJN"
      },
      "id": "P2bXKmcEqOJN"
    },
    {
      "cell_type": "markdown",
      "source": [
        "## Derive the weak form\n",
        "\n",
        "The trial space is defined as \n",
        "\\begin{equation}\n",
        "\\begin{aligned}\n",
        "& S_u = \\{\\boldsymbol{u}:\\Omega→\\mathbb{R}^{ndim}|\\boldsymbol{u}→\\boldsymbol{H}^1,\\ \\boldsymbol{u}=\\overline{\\boldsymbol{u}}\\quad on \\quad \\Gamma_u \\} ,\\\\\n",
        "&S_p = \\{p:\\Omega→\\mathbb{R}|p→H^1,\\ p=\\overline{p}\\quad on \\quad \\Gamma_p \\}\n",
        "\\end{aligned}\n",
        "\\end{equation}\n",
        "\n",
        "For the weighting space,\n",
        "\\begin{equation}\n",
        "\\begin{aligned}\n",
        "& V_u = \\{\\boldsymbol{\\eta}:\\Omega→\\mathbb{R}^{ndim}|\\boldsymbol{\\eta}→\\boldsymbol{H}^1,\\ \\boldsymbol{\\eta}={\\boldsymbol{0}}\\quad on \\quad \\Gamma_u \\} ,\\\\\n",
        "&V_\\psi = \\{\\psi:\\Omega→\\mathbb{R}|\\psi→H^1,\\ \\psi=0\\quad on \\quad \\Gamma_\\psi \\}\n",
        "\\end{aligned}\n",
        "\\end{equation}\n"
      ],
      "metadata": {
        "id": "MLHKWGvgv_Cg"
      },
      "id": "MLHKWGvgv_Cg"
    },
    {
      "cell_type": "markdown",
      "source": [
        "The weak form becomes:\n",
        "\\begin{equation}\n",
        "\\begin{aligned}\n",
        "& \\mathcal{G}_1 = \\int_{\\Omega}(\\nabla^s\\boldsymbol{\\eta}:\\boldsymbol{\\sigma}^\\prime-p\\nabla\\cdot\\boldsymbol{\\eta}-\\boldsymbol{\\eta}\\cdot{\\rho}\\boldsymbol{g})dV - \\int_{\\Gamma_t}\\boldsymbol{\\eta}\\cdot\\overline{\\boldsymbol{t}}dA = \\boldsymbol{0} \\\\\n",
        "& \\mathcal{G}_2 = \\int_{\\Omega}(\\psi\\nabla\\cdot\\dot{\\boldsymbol{u}}-\\nabla \\psi\\cdot \\boldsymbol{q})dV + \\int_{\\Gamma_q} \\psi\\bar{q}dA\\\\\n",
        "\\end{aligned}\n",
        "\\end{equation}"
      ],
      "metadata": {
        "id": "62rA3t9lxyo6"
      },
      "id": "62rA3t9lxyo6"
    },
    {
      "cell_type": "markdown",
      "source": [
        "# Exact solution\n",
        "\n",
        "The exact solution for this problem is \n",
        "\\begin{equation}\n",
        "u(Z,T) = \\sum_{k=0}^{\\infty}\\frac{4w}{(2k+1)\\pi}\\sin\\left(\\frac{2k+1}{2}\\pi Z \\right)\\exp\\left[-{\\left(\\frac{2k+1}{2}\\pi \\right)^2T}\\right],\n",
        "\\end{equation}\n",
        "- $u$:excess pore pressure;\n",
        "- $Z=\\frac{z}{H}$;\n",
        "- $T = \\frac{c_v t}{H^2}$;\n",
        "- Coefficient of consolidation: $c_v=\\frac{K}{\\gamma_w m_v}$;\n",
        "- Coefficient of compressibility: $m_v=\\frac{1}{E}$ for $\\nu=0$."
      ],
      "metadata": {
        "id": "WyCO_zcJhSGc"
      },
      "id": "WyCO_zcJhSGc"
    },
    {
      "cell_type": "markdown",
      "metadata": {
        "id": "yWGBMCZ5jAX2"
      },
      "source": [
        "# Import necessary library"
      ],
      "id": "yWGBMCZ5jAX2"
    },
    {
      "cell_type": "code",
      "execution_count": null,
      "metadata": {
        "id": "infectious-train"
      },
      "outputs": [],
      "source": [
        "from fenics import *\n",
        "from mshr import *\n",
        "from ufl import nabla_div"
      ],
      "id": "infectious-train"
    },
    {
      "cell_type": "code",
      "source": [
        "# Create mesh and define expression\n",
        "# mesh = RectangleMesh.create([Point(0, 0), Point(1,1)],[2,2],CellType.Type.quadrilateral)\n",
        "# We can still create the mesh here.\n",
        "# But, we can't use plot to see the results if we use quadrilateral mesh."
      ],
      "metadata": {
        "id": "xXlk8W3E671m"
      },
      "id": "xXlk8W3E671m",
      "execution_count": null,
      "outputs": []
    },
    {
      "cell_type": "markdown",
      "source": [
        "# Parameters\n",
        "\n",
        "For the conversion between elastic modulus, refer to this [wiki page](https://en.wikipedia.org/wiki/Elastic_modulus)."
      ],
      "metadata": {
        "id": "PsmZYVTj5Fd3"
      },
      "id": "PsmZYVTj5Fd3"
    },
    {
      "cell_type": "code",
      "source": [
        "T = 1000                 #final time\n",
        "num_steps =100        #number of time steps\n",
        "dt = T / (1.0*num_steps) #time step size\n",
        "\n",
        "rho_l = 1000\n",
        "\n",
        "\n",
        "# E = 1000 #Pa\n",
        "# nu = 0.0\n",
        "k = 1.e-7 \t#intrinsic permeability\n",
        "mu_l = 1e-2 \t#dynamic viscosity of IF\n",
        "\n",
        "lambda_= 0.\n",
        "mu = 500"
      ],
      "metadata": {
        "id": "4Au2rvfqZMTc"
      },
      "id": "4Au2rvfqZMTc",
      "execution_count": null,
      "outputs": []
    },
    {
      "cell_type": "code",
      "source": [
        "# Create mesh and define expression\n",
        "mesh=RectangleMesh(Point(0.0,0.0), Point(1., 10.), 1, 20,'crossed')\n",
        "# mesh = RectangleMesh.create([Point(0, 0), Point(1,10)], [1, 20], CellType.Type.quadrilateral)\n",
        "top =  CompiledSubDomain(\"near(x[1], side)\", side = 10.)\n",
        "bottom =  CompiledSubDomain(\"near(x[1], side)\", side = 0.0)\n",
        "left_right = CompiledSubDomain(\"(near(x[0], 0.0) )|| (near(x[0], 1.) )\")\n",
        "\n",
        "boundary = MeshFunction('size_t', mesh, mesh.topology().dim()-1)\n",
        "boundary.set_all(1)\n",
        "top.mark(boundary, 2)\n",
        "ds = Measure('ds', domain = mesh, subdomain_data = boundary)\n",
        "\n",
        "T  = Expression(('0.0', '-10'),degree=1)  # Load on the boundary\n",
        "\n",
        "#Define Mixed Space (R2,R) -> (u,p)\n",
        "V = VectorElement(\"CG\", mesh.ufl_cell(), 2) # define the order\n",
        "W = FiniteElement(\"CG\", mesh.ufl_cell(), 1) # define the order\n",
        "L = FunctionSpace(mesh,W)\n",
        "MS = dolfin.FunctionSpace(mesh, MixedElement([V,W]))\n",
        "\n",
        "# Define boundary condition\n",
        "bcu1 = DirichletBC(MS.sub(0).sub(0), 0.0, left_right)  # slip condition\n",
        "bcu2 = DirichletBC(MS.sub(0).sub(1), 0.0, bottom)      # slip condition\n",
        "bcp = DirichletBC(MS.sub(1), 0.0, top) # drained condition\n",
        "bc=[bcu1,bcu2,bcp]\n",
        "\n",
        "# Define strain\n",
        "def epsilon(u):\n",
        "    return 0.5*(nabla_grad(u) + nabla_grad(u).T)\n",
        "\n",
        "def sigma(u):\n",
        "   return lambda_*tr(epsilon(u))*Identity(2) + 2.0*mu*epsilon(u)\n",
        "\n",
        "# Define variational problem and initial condition\n",
        "X0 = Function(MS)\n",
        "B = TestFunction(MS)\n",
        "\n",
        "e_u0 = Expression(('0.0', '0.0'), degree=1)\n",
        "e_p0 = Expression('10.0', degree=1)\n",
        "\n",
        "u0 = interpolate(e_u0, MS.sub(0).collapse())\n",
        "p0 = interpolate(e_p0, MS.sub(1).collapse())\n",
        "\n",
        "Xn = Function(MS)\n",
        "assign(Xn, [u0, p0])\n",
        "\n",
        "(u,p)=split(X0)\n",
        "(u_n,p_n)=split(Xn)\n",
        "(v,q)=split(B)\n",
        "\n",
        "F = (1/dt)*nabla_div(u-u_n)*q*dx + (k/(mu_l))*dot(grad(p),grad(q))*dx \n",
        "F += inner(sigma(u), epsilon(v))*dx -p*nabla_div(v)*dx- dot(T,v)*ds(2)\n",
        "\n",
        "#solver tuning\n",
        "dX0 = TrialFunction(MS)\n",
        "J = derivative(F, X0, dX0)\n",
        "Problem = NonlinearVariationalProblem(F, X0, J = J, bcs = bc)\n",
        "Solver  = NonlinearVariationalSolver(Problem)\n",
        "Solver.parameters['newton_solver']['convergence_criterion'] = 'incremental'\n",
        "Solver.parameters['newton_solver']['relative_tolerance'] = 1.e-11\n",
        "Solver.parameters['newton_solver']['absolute_tolerance'] = 5.e-10\n",
        "\n",
        "#if you want to store the results\n",
        "vtkfile_u = File('Terzaghi_CG/u.pvd')\n",
        "vtkfile_p = File('Terzaghi_CG/p.pvd')\n",
        "\n",
        "t = 0\n",
        "\n",
        "p_out = []\n",
        "\n",
        "for n in range(num_steps):\n",
        "\tt += dt\n",
        "\tSolver.solve()    \n",
        "\tassign(Xn,X0)\n",
        "\n",
        "\t(_u,_p)=X0.split()\n",
        "\t\n",
        "\tvtkfile_u << (_u,t)\n",
        "\tvtkfile_p << (_p,t)\n",
        "\tp_out.append(_p(0.5, 5))"
      ],
      "metadata": {
        "id": "pw-EBzjqQiha"
      },
      "id": "pw-EBzjqQiha",
      "execution_count": null,
      "outputs": []
    },
    {
      "cell_type": "code",
      "source": [
        "# u_result, p_result = X0.split()\n",
        "# import matplotlib.pyplot as plt\n",
        "# c=plot(p_result)\n",
        "# plt.colorbar(c)\n",
        "# plt.show()"
      ],
      "metadata": {
        "id": "G0dWBTs8TB3q"
      },
      "id": "G0dWBTs8TB3q",
      "execution_count": null,
      "outputs": []
    },
    {
      "cell_type": "markdown",
      "source": [
        "# Postprocess"
      ],
      "metadata": {
        "id": "bZFw87laa7Tp"
      },
      "id": "bZFw87laa7Tp"
    },
    {
      "cell_type": "code",
      "source": [
        "# Use the following method to zip the file.\n",
        "!zip -r 'Terzaghi_CG.zip' '/content/Terzaghi_CG' "
      ],
      "metadata": {
        "id": "joHFy9lSTN27"
      },
      "id": "joHFy9lSTN27",
      "execution_count": null,
      "outputs": []
    },
    {
      "cell_type": "markdown",
      "source": [
        "## 3(a)"
      ],
      "metadata": {
        "id": "5_CjpEE2a4n1"
      },
      "id": "5_CjpEE2a4n1"
    },
    {
      "cell_type": "code",
      "source": [
        "import numpy as np\n",
        "import matplotlib.pyplot as plt\n",
        "depth = np.linspace(0,10,1000)\n",
        "pressure = np.array([_p(0.5, 10-d) for d in depth])\n",
        "plt.xlabel(r\"$p/w$\")\n",
        "plt.ylabel(r\"z/h\")\n",
        "plt.gca().invert_yaxis()\n",
        "plt.plot(pressure/10, depth/10, 'k')"
      ],
      "metadata": {
        "colab": {
          "base_uri": "https://localhost:8080/",
          "height": 300
        },
        "id": "kXhNsYMdVkIu",
        "outputId": "18aabb8a-7307-43bd-b4c4-dc3b46fae9b9"
      },
      "id": "kXhNsYMdVkIu",
      "execution_count": null,
      "outputs": [
        {
          "output_type": "execute_result",
          "data": {
            "text/plain": [
              "[<matplotlib.lines.Line2D at 0x7f0d8669f690>]"
            ]
          },
          "metadata": {},
          "execution_count": 49
        },
        {
          "output_type": "display_data",
          "data": {
            "text/plain": [
              "<Figure size 432x288 with 1 Axes>"
            ],
            "image/png": "[encoded data removed]"
          },
          "metadata": {
            "needs_background": "light"
          }
        }
      ]
    },
    {
      "cell_type": "code",
      "source": [
        "import numpy as np\n",
        "import matplotlib.pyplot as plt\n",
        "depth = np.linspace(0,10,1000)\n",
        "pressure = np.array([_p(0.5, 10-d) for d in depth])\n",
        "plt.xlabel(r\"$p/w$\")\n",
        "plt.ylabel(r\"z/h\")\n",
        "plt.gca().invert_yaxis()\n",
        "plt.plot(pressure/10, depth/10, 'k')"
      ],
      "metadata": {
        "colab": {
          "base_uri": "https://localhost:8080/",
          "height": 300
        },
        "id": "9yAN7gucikr2",
        "outputId": "b01a6f6e-10b0-4c4d-9e50-cc1f5c009666"
      },
      "id": "9yAN7gucikr2",
      "execution_count": null,
      "outputs": [
        {
          "output_type": "execute_result",
          "data": {
            "text/plain": [
              "[<matplotlib.lines.Line2D at 0x7f0d866fdfd0>]"
            ]
          },
          "metadata": {},
          "execution_count": 51
        },
        {
          "output_type": "display_data",
          "data": {
            "text/plain": [
              "<Figure size 432x288 with 1 Axes>"
            ],
            "image/png": "[encoded data removed]"
          },
          "metadata": {
            "needs_background": "light"
          }
        }
      ]
    },
    {
      "cell_type": "markdown",
      "source": [
        "## 3(b)"
      ],
      "metadata": {
        "id": "rtxvdCroiuq_"
      },
      "id": "rtxvdCroiuq_"
    },
    {
      "cell_type": "code",
      "source": [
        "import numpy as np\n",
        "import matplotlib.pyplot as plt\n",
        "time = np.linspace(0,10,100)\n",
        "pressure = np.array(p_out)\n",
        "plt.xlabel(r\"$t$\")\n",
        "plt.ylabel(r\"$p/w$ at $z/h=0.5$\")\n",
        "plt.plot(time, pressure/10, 'k')"
      ],
      "metadata": {
        "id": "BgAwNRBDfINY",
        "outputId": "b13c2345-a635-4c07-e2cf-1451897f9cfd",
        "colab": {
          "base_uri": "https://localhost:8080/",
          "height": 298
        }
      },
      "id": "BgAwNRBDfINY",
      "execution_count": null,
      "outputs": [
        {
          "output_type": "execute_result",
          "data": {
            "text/plain": [
              "[<matplotlib.lines.Line2D at 0x7efc6f28ce50>]"
            ]
          },
          "metadata": {},
          "execution_count": 25
        },
        {
          "output_type": "display_data",
          "data": {
            "text/plain": [
              "<Figure size 432x288 with 1 Axes>"
            ],
            "image/png": "[encoded data removed]"
          },
          "metadata": {
            "needs_background": "light"
          }
        }
      ]
    },
    {
      "cell_type": "code",
      "source": [
        ""
      ],
      "metadata": {
        "id": "Zp1Rs8homNZ9"
      },
      "id": "Zp1Rs8homNZ9",
      "execution_count": null,
      "outputs": []
    }
  ],
  "metadata": {
    "colab": {
      "machine_shape": "hm",
      "name": "CEE314Problemsets4Q3_teaching.ipynb",
      "provenance": [],
      "include_colab_link": true
    },
    "kernelspec": {
      "display_name": "Python 3 (ipykernel)",
      "language": "python",
      "name": "python3"
    },
    "language_info": {
      "codemirror_mode": {
        "name": "ipython"
      },
      "file_extension": ".py",
      "mimetype": "text/x-python",
      "name": "python",
      "nbconvert_exporter": "python"
    }
  },
  "nbformat": 4,
  "nbformat_minor": 5
}