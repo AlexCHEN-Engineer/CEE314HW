{
  "nbformat": 4,
  "nbformat_minor": 0,
  "metadata": {
    "colab": {
      "name": "Problemset3Q3_Teaching.ipynb",
      "provenance": [],
      "authorship_tag": "ABX9TyMIfCHcPgUsk43tQOie26v+",
      "include_colab_link": true
    },
    "kernelspec": {
      "name": "python3",
      "display_name": "Python 3"
    },
    "language_info": {
      "name": "python"
    }
  },
  "cells": [
    {
      "cell_type": "markdown",
      "metadata": {
        "id": "view-in-github",
        "colab_type": "text"
      },
      "source": [
        "<a href=\"https://colab.research.google.com/github/AlexCHEN-Engineer/CEE314HW/blob/main/Problemset3Q3_Teaching.ipynb\" target=\"_parent\"><img src=\"https://colab.research.google.com/assets/colab-badge.svg\" alt=\"Open In Colab\"/></a>"
      ]
    },
    {
      "cell_type": "markdown",
      "source": [
        "# CEE 314 Computational Poromechanics, Spring 2022\n",
        "Instructor : Prof. Ronaldo Borja \n",
        "\n",
        "TA: Wei Chen"
      ],
      "metadata": {
        "id": "FBv0DP6RPhKw"
      }
    },
    {
      "cell_type": "markdown",
      "source": [
        "# Configure the environment in google colab. \n",
        "Everyone with goole account can have access to the [google colab](https://colab.research.google.com/). Execute the first cell to get Fenics installed."
      ],
      "metadata": {
        "id": "QyYnU2rNPk9z"
      }
    },
    {
      "cell_type": "code",
      "execution_count": null,
      "metadata": {
        "id": "g5lqI17SPQDQ"
      },
      "outputs": [],
      "source": [
        "# Do not revise here. \n",
        "try:\n",
        "    import google.colab\n",
        "except ImportError:\n",
        "    import ufl\n",
        "    import dolfin\n",
        "    import mshr\n",
        "else:\n",
        "    try:\n",
        "        import ufl\n",
        "        import dolfin\n",
        "        import mshr\n",
        "    except ImportError:\n",
        "        !wget \"https://fem-on-colab.github.io/releases/fenics-install.sh\" -O \"/tmp/fenics-install.sh\" && bash \"/tmp/fenics-install.sh\"\n",
        "        import ufl\n",
        "        import dolfin\n",
        "        import mshr"
      ]
    },
    {
      "cell_type": "markdown",
      "source": [
        "# Import necessary finite element library\n",
        "Import necessary finite element library, which includes `dolphin`, `mshr` and `numpy`. Here, `dolphin` is used to execute the finite element operation such as contructing the variational problem, assembling the equations and solve the linear system. `mshr` is a mesh library to deal with the mesh problems. `numpy` is similar to matlab and will only be used to plot the result."
      ],
      "metadata": {
        "id": "Gg7ghOyAPqI3"
      }
    },
    {
      "cell_type": "code",
      "source": [
        "from dolfin import *\n",
        "from mshr import *\n",
        "import numpy as np\n",
        "import matplotlib.pyplot as plt"
      ],
      "metadata": {
        "id": "vr8VD5p4Pnc2"
      },
      "execution_count": null,
      "outputs": []
    },
    {
      "cell_type": "markdown",
      "source": [
        "## Generate mesh\n",
        "We use the `Polygon` method to generate the mesh we need for this problem. It is worthwhile to mention that\n",
        "- The points are sequenced in counter clockwise order.\n",
        "- The geometry is not a perfect rectangle because of the cofferdam. There is a sharp notch inside the domain."
      ],
      "metadata": {
        "id": "LpHMU-07Pvc_"
      }
    },
    {
      "cell_type": "code",
      "source": [
        "# Create list of polygonal domain vertices.\n",
        "eps = 1e-4\n",
        "\n",
        "# Distribute the point in counter clockwise order.\n",
        "domain_vertices = [Point(0.0, 0.0),\n",
        "                   Point(40.0, 0.0),\n",
        "                   Point(40.0, 20.0),\n",
        "                   Point(10.0+eps, 20.0),\n",
        "                   Point(10.0+eps, 10.0),\n",
        "                   Point(10.0-eps, 20),\n",
        "                   Point(0, 20),\n",
        "                   Point(0, 0)]\n",
        "\n",
        "# Generate mesh and plot.\n",
        "domain = Polygon(domain_vertices)\n",
        "\n",
        "# 10 is to adjust the density of mesh\n",
        "mesh = generate_mesh(domain,10)\n",
        "\n",
        "# Display the mesh here.\n",
        "plot(mesh)"
      ],
      "metadata": {
        "id": "sBgJyjqePta0"
      },
      "execution_count": null,
      "outputs": []
    },
    {
      "cell_type": "markdown",
      "source": [
        "## Finite element formulation\n",
        "In our current problem, the strong form ($S$) is \\\\\n",
        "Given  $\\bar{q}:\\Gamma_q→\\mathbb{R}$, find $h:\\Omega→\\mathbb{R}$ such that\n",
        "\\begin{equation}\n",
        "\\begin{aligned}\n",
        "& \\cal{S}\\dot{h} = k\\nabla^2 h. \\\\\n",
        "& h = 0\\quad \\text{on} \\quad \\Gamma_h \\\\\n",
        "& k∇h\\cdot \\boldsymbol{n} = \\bar{q}\\quad \\text{on} \\quad \\Gamma_q \\\\\n",
        "& h = h_0\\quad \\text{on}\\quad \\Omega\\quad \\text{when}\\quad t=0 \\\\\n",
        "\\end{aligned}\n",
        "\\end{equation}\n",
        "\n",
        "Recall the trial and weight functions in lectures, where we define:\n",
        "\\begin{equation}\n",
        "\\begin{aligned}\n",
        "& \\cal{T} = \\{h|h\\in H^1,\\ h=0\\quad \\text{on}\\quad \\Gamma_h \\}, \\\\\n",
        "& \\cal{W} = \\{h|h\\in H^1,\\ w=0\\quad \\text{on}\\quad \\Gamma_h \\}.\\\\\n",
        "\\end{aligned}\n",
        "\\end{equation}\n",
        "Note that $\\Gamma_h$ is the boundary with essential boundary conditions. $\\Gamma_q$ is the boundary with natural boundary conditions. $\\Gamma_h\\cup \\Gamma_q=\\Gamma$.\n",
        "\n",
        "Thus, we derive the weak form from the strong form.\n",
        "\\begin{equation}\n",
        "\\begin{aligned}\n",
        "0 &= \\int_{\\Omega}\\delta h(\\cal{S}\\frac{\\partial h}{\\partial t}-k\\nabla^2h)dV\\\\\n",
        "&= \\text{TODO} \\\\\n",
        "&= \\text{TODO}\\\\\n",
        "\\end{aligned}\n",
        "\\end{equation}\n",
        "\n",
        "To run the finite element code, you need to write out the weak form and complete it in the following cell.\n",
        "\n",
        "Different time discretizations yield different numerical result. \n",
        "1. Forward Euler\n",
        "\\begin{equation}\n",
        "\\text{TODO: Write formulas here.}\n",
        "\\end{equation}\n",
        "\n",
        "2. Crank-Nicolson \n",
        "\\begin{equation}\n",
        "\\text{TODO: Write formulas here.}\n",
        "\\end{equation}\n",
        "\n",
        "3. Backward\n",
        "\\begin{equation}\n",
        "\\text{TODO: Write formulas here.}\n",
        "\\end{equation}\n"
      ],
      "metadata": {
        "id": "9WfMoatZP1zu"
      }
    },
    {
      "cell_type": "markdown",
      "source": [
        "# Implementation"
      ],
      "metadata": {
        "id": "CnpkYVZyP7Gu"
      }
    },
    {
      "cell_type": "code",
      "source": [
        "# define the parameters for this problem\n",
        "S = 10  # coefficient of storage\n",
        "k = 0.001 # permeability\n",
        "day2second = 86400. # day to second conversion\n",
        "\n",
        "T = 11.57 # unit is day.\n",
        "num_steps = 1000\n",
        "dt = T / num_steps # unit is second."
      ],
      "metadata": {
        "id": "LbXHqBa0PyKL"
      },
      "execution_count": null,
      "outputs": []
    },
    {
      "cell_type": "code",
      "source": [
        "# We select the continuous galerkin family with degree = 1.\n",
        "V = FunctionSpace(mesh, 'P', 1)\n",
        "\n",
        "# Define boundary condition in the left of cofferdam.\n",
        "h_right_cofferdam = Constant(30.)\n",
        "\n",
        "# Piecewise boundary condition in the right of cofferdam.\n",
        "h_left_cofferdam = Constant(20.)\n",
        "\n",
        "# Boundary inside the cofferdam.\n",
        "def boundaryLeftCofferdam(x, on_boundary):\n",
        "    tol = 1E-14\n",
        "    return on_boundary and near(x[1], 20, tol) and x[0] < 10.-tol\n",
        "\n",
        "\n",
        "# Boundary outside the cofferdam.\n",
        "def boundaryRightCofferdam(x, on_boundary):\n",
        "    tol = 1E-14\n",
        "    return on_boundary and near(x[1], 20, tol) and x[0] > 10.+tol\n",
        "\n",
        "\n",
        "# Define Dirichlet boundary conditions at top boudary.\n",
        "# It is the stack of two boundaries seperated by cofferdam.\n",
        "bcs = [DirichletBC(V, h_left_cofferdam, boundaryLeftCofferdam),\n",
        "       DirichletBC(V, h_right_cofferdam, boundaryRightCofferdam)]\n",
        "\n",
        "# Define initial value.\n",
        "h_n = interpolate(h_right_cofferdam, V)\n",
        "\n",
        "# Define variational problem\n",
        "# u and v represent the trial function space\n",
        "# and the weight function space.\n",
        "h = TrialFunction(V)\n",
        "v = TestFunction(V)\n",
        "\n",
        "schemes = {\"Forward\", \"Backward\", \"Crank-Nicolson\"}\n",
        "\n",
        "def getVarition(scheme = \"Backward\"):\n",
        "  if scheme not in schemes:\n",
        "    raise Exception(\"Unknow schemes\")\n",
        "\n",
        "  if scheme == \"Forward\":\n",
        "    # TODO: write your code here.\n",
        "    return None\n",
        "\n",
        "  if scheme == \"Backward\":\n",
        "    # TODO: write your code here.\n",
        "    return None\n",
        "\n",
        "  if scheme == \"Crank-Nicolson\":\n",
        "    # TODO: write your code here.\n",
        "    return None\n",
        "\n",
        "F = getVarition(\"Crank-Nicolson\")\n",
        "\n",
        "a, L = lhs(F), rhs(F)\n",
        "\n",
        "# create VTK file for saving solution \n",
        "# VTK file can be viewed in paraview. \n",
        "# vtkfile = File('CEE314HW3/solution.pvd')"
      ],
      "metadata": {
        "colab": {
          "base_uri": "https://localhost:8080/"
        },
        "id": "yC7-EBqYP-_j",
        "outputId": "40e8d821-16bf-4426-af89-9d7add132ad8"
      },
      "execution_count": null,
      "outputs": [
        {
          "output_type": "stream",
          "name": "stdout",
          "text": [
            "Calling FFC just-in-time (JIT) compiler, this may take some time.\n"
          ]
        }
      ]
    },
    {
      "cell_type": "code",
      "source": [
        "# define the variables to be solved.\n",
        "h = Function(V)\n",
        "for n in range(num_steps):\n",
        "    solve(a == L, h, bcs)\n",
        "    # vtkfile << (u, t)\n",
        "    # update the history value\n",
        "    h_n.assign(h)\n",
        "\n",
        "p_centerline = [(h(0, x)-x)*9.8 for x in np.linspace(0,20,100)]"
      ],
      "metadata": {
        "id": "qt2TZ_D_QD3b"
      },
      "execution_count": null,
      "outputs": []
    },
    {
      "cell_type": "code",
      "source": [
        "# Plot the contour of solution at the last step.\n",
        "# And you can save the result at any time and output them.\n",
        "plt.figure()\n",
        "c = plot(h, mode='color')\n",
        "plt.colorbar(c)\n",
        "plt.show()"
      ],
      "metadata": {
        "id": "3dTKl9pXSD3f"
      },
      "execution_count": null,
      "outputs": []
    },
    {
      "cell_type": "markdown",
      "source": [
        "### Postprocessing\n",
        "Get the centerline pore pressure distribution after 11.57 days."
      ],
      "metadata": {
        "id": "CKzedtesQIZm"
      }
    },
    {
      "cell_type": "code",
      "source": [
        "elev = np.linspace(0,20,100)\n",
        "plt.xlabel(r\"elevation, $m$\")\n",
        "plt.ylabel(r\"pore pressure, $kPa$\")\n",
        "plt.plot(elev, p_centerline, 'k')"
      ],
      "metadata": {
        "id": "-V_f49zXQF1l"
      },
      "execution_count": null,
      "outputs": []
    },
    {
      "cell_type": "markdown",
      "source": [
        "## Scheme and number of time increments analysis\n",
        "Ouput the calculated potential at point (0, 0)."
      ],
      "metadata": {
        "id": "0qUTgkx2QO2x"
      }
    },
    {
      "cell_type": "code",
      "source": [
        "# Output the water potential at point (0, 0)\n",
        "print(h(0, 0))"
      ],
      "metadata": {
        "id": "p6XLP8-eQK-k"
      },
      "execution_count": null,
      "outputs": []
    },
    {
      "cell_type": "code",
      "source": [
        ""
      ],
      "metadata": {
        "id": "nFfI5ZgTQcS3"
      },
      "execution_count": null,
      "outputs": []
    }
  ]
}