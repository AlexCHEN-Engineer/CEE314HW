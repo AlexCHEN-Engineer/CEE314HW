{
  "nbformat": 4,
  "nbformat_minor": 0,
  "metadata": {
    "colab": {
      "name": "Problemset5Q4ConductionTeaching.ipynb",
      "provenance": [],
      "authorship_tag": "ABX9TyNJ8OpNe3Zuu1tSCJW8lGhJ",
      "include_colab_link": true
    },
    "kernelspec": {
      "name": "python3",
      "display_name": "Python 3"
    },
    "language_info": {
      "name": "python"
    },
    "widgets": {
      "application/vnd.jupyter.widget-state+json": {
        "5ceac22058ea442b9843f0a261f65916": {
          "model_module": "@jupyter-widgets/controls",
          "model_name": "HBoxModel",
          "model_module_version": "1.5.0",
          "state": {
            "_dom_classes": [],
            "_model_module": "@jupyter-widgets/controls",
            "_model_module_version": "1.5.0",
            "_model_name": "HBoxModel",
            "_view_count": null,
            "_view_module": "@jupyter-widgets/controls",
            "_view_module_version": "1.5.0",
            "_view_name": "HBoxView",
            "box_style": "",
            "children": [
              "IPY_MODEL_9244df6c2c0e42cb9efac63144625912",
              "IPY_MODEL_647425e785b847b18fd6acd02bae49b3",
              "IPY_MODEL_ca108e8d3d3d4a388976a96c7efa9939"
            ],
            "layout": "IPY_MODEL_0e9894d2c06b49c78fbe0385dd2ea107"
          }
        },
        "9244df6c2c0e42cb9efac63144625912": {
          "model_module": "@jupyter-widgets/controls",
          "model_name": "HTMLModel",
          "model_module_version": "1.5.0",
          "state": {
            "_dom_classes": [],
            "_model_module": "@jupyter-widgets/controls",
            "_model_module_version": "1.5.0",
            "_model_name": "HTMLModel",
            "_view_count": null,
            "_view_module": "@jupyter-widgets/controls",
            "_view_module_version": "1.5.0",
            "_view_name": "HTMLView",
            "description": "",
            "description_tooltip": null,
            "layout": "IPY_MODEL_4cbf8be0cf7d4bfd96e3ef5f5c59ee19",
            "placeholder": "​",
            "style": "IPY_MODEL_1bda66c6565e4d848d4a8f7ca411c3cf",
            "value": "100%"
          }
        },
        "647425e785b847b18fd6acd02bae49b3": {
          "model_module": "@jupyter-widgets/controls",
          "model_name": "FloatProgressModel",
          "model_module_version": "1.5.0",
          "state": {
            "_dom_classes": [],
            "_model_module": "@jupyter-widgets/controls",
            "_model_module_version": "1.5.0",
            "_model_name": "FloatProgressModel",
            "_view_count": null,
            "_view_module": "@jupyter-widgets/controls",
            "_view_module_version": "1.5.0",
            "_view_name": "ProgressView",
            "bar_style": "success",
            "description": "",
            "description_tooltip": null,
            "layout": "IPY_MODEL_ca36173f9a184ae495c55b834392b848",
            "max": 1000,
            "min": 0,
            "orientation": "horizontal",
            "style": "IPY_MODEL_582a6bf70cea45de8fe9103b3ac3645d",
            "value": 1000
          }
        },
        "ca108e8d3d3d4a388976a96c7efa9939": {
          "model_module": "@jupyter-widgets/controls",
          "model_name": "HTMLModel",
          "model_module_version": "1.5.0",
          "state": {
            "_dom_classes": [],
            "_model_module": "@jupyter-widgets/controls",
            "_model_module_version": "1.5.0",
            "_model_name": "HTMLModel",
            "_view_count": null,
            "_view_module": "@jupyter-widgets/controls",
            "_view_module_version": "1.5.0",
            "_view_name": "HTMLView",
            "description": "",
            "description_tooltip": null,
            "layout": "IPY_MODEL_f457be639a5146b9a328a15bfcad8c6a",
            "placeholder": "​",
            "style": "IPY_MODEL_d2b707c011a14d6a9f369425de16b8f1",
            "value": " 1000/1000 [00:17&lt;00:00, 60.58it/s]"
          }
        },
        "0e9894d2c06b49c78fbe0385dd2ea107": {
          "model_module": "@jupyter-widgets/base",
          "model_name": "LayoutModel",
          "model_module_version": "1.2.0",
          "state": {
            "_model_module": "@jupyter-widgets/base",
            "_model_module_version": "1.2.0",
            "_model_name": "LayoutModel",
            "_view_count": null,
            "_view_module": "@jupyter-widgets/base",
            "_view_module_version": "1.2.0",
            "_view_name": "LayoutView",
            "align_content": null,
            "align_items": null,
            "align_self": null,
            "border": null,
            "bottom": null,
            "display": null,
            "flex": null,
            "flex_flow": null,
            "grid_area": null,
            "grid_auto_columns": null,
            "grid_auto_flow": null,
            "grid_auto_rows": null,
            "grid_column": null,
            "grid_gap": null,
            "grid_row": null,
            "grid_template_areas": null,
            "grid_template_columns": null,
            "grid_template_rows": null,
            "height": null,
            "justify_content": null,
            "justify_items": null,
            "left": null,
            "margin": null,
            "max_height": null,
            "max_width": null,
            "min_height": null,
            "min_width": null,
            "object_fit": null,
            "object_position": null,
            "order": null,
            "overflow": null,
            "overflow_x": null,
            "overflow_y": null,
            "padding": null,
            "right": null,
            "top": null,
            "visibility": null,
            "width": null
          }
        },
        "4cbf8be0cf7d4bfd96e3ef5f5c59ee19": {
          "model_module": "@jupyter-widgets/base",
          "model_name": "LayoutModel",
          "model_module_version": "1.2.0",
          "state": {
            "_model_module": "@jupyter-widgets/base",
            "_model_module_version": "1.2.0",
            "_model_name": "LayoutModel",
            "_view_count": null,
            "_view_module": "@jupyter-widgets/base",
            "_view_module_version": "1.2.0",
            "_view_name": "LayoutView",
            "align_content": null,
            "align_items": null,
            "align_self": null,
            "border": null,
            "bottom": null,
            "display": null,
            "flex": null,
            "flex_flow": null,
            "grid_area": null,
            "grid_auto_columns": null,
            "grid_auto_flow": null,
            "grid_auto_rows": null,
            "grid_column": null,
            "grid_gap": null,
            "grid_row": null,
            "grid_template_areas": null,
            "grid_template_columns": null,
            "grid_template_rows": null,
            "height": null,
            "justify_content": null,
            "justify_items": null,
            "left": null,
            "margin": null,
            "max_height": null,
            "max_width": null,
            "min_height": null,
            "min_width": null,
            "object_fit": null,
            "object_position": null,
            "order": null,
            "overflow": null,
            "overflow_x": null,
            "overflow_y": null,
            "padding": null,
            "right": null,
            "top": null,
            "visibility": null,
            "width": null
          }
        },
        "1bda66c6565e4d848d4a8f7ca411c3cf": {
          "model_module": "@jupyter-widgets/controls",
          "model_name": "DescriptionStyleModel",
          "model_module_version": "1.5.0",
          "state": {
            "_model_module": "@jupyter-widgets/controls",
            "_model_module_version": "1.5.0",
            "_model_name": "DescriptionStyleModel",
            "_view_count": null,
            "_view_module": "@jupyter-widgets/base",
            "_view_module_version": "1.2.0",
            "_view_name": "StyleView",
            "description_width": ""
          }
        },
        "ca36173f9a184ae495c55b834392b848": {
          "model_module": "@jupyter-widgets/base",
          "model_name": "LayoutModel",
          "model_module_version": "1.2.0",
          "state": {
            "_model_module": "@jupyter-widgets/base",
            "_model_module_version": "1.2.0",
            "_model_name": "LayoutModel",
            "_view_count": null,
            "_view_module": "@jupyter-widgets/base",
            "_view_module_version": "1.2.0",
            "_view_name": "LayoutView",
            "align_content": null,
            "align_items": null,
            "align_self": null,
            "border": null,
            "bottom": null,
            "display": null,
            "flex": null,
            "flex_flow": null,
            "grid_area": null,
            "grid_auto_columns": null,
            "grid_auto_flow": null,
            "grid_auto_rows": null,
            "grid_column": null,
            "grid_gap": null,
            "grid_row": null,
            "grid_template_areas": null,
            "grid_template_columns": null,
            "grid_template_rows": null,
            "height": null,
            "justify_content": null,
            "justify_items": null,
            "left": null,
            "margin": null,
            "max_height": null,
            "max_width": null,
            "min_height": null,
            "min_width": null,
            "object_fit": null,
            "object_position": null,
            "order": null,
            "overflow": null,
            "overflow_x": null,
            "overflow_y": null,
            "padding": null,
            "right": null,
            "top": null,
            "visibility": null,
            "width": null
          }
        },
        "582a6bf70cea45de8fe9103b3ac3645d": {
          "model_module": "@jupyter-widgets/controls",
          "model_name": "ProgressStyleModel",
          "model_module_version": "1.5.0",
          "state": {
            "_model_module": "@jupyter-widgets/controls",
            "_model_module_version": "1.5.0",
            "_model_name": "ProgressStyleModel",
            "_view_count": null,
            "_view_module": "@jupyter-widgets/base",
            "_view_module_version": "1.2.0",
            "_view_name": "StyleView",
            "bar_color": null,
            "description_width": ""
          }
        },
        "f457be639a5146b9a328a15bfcad8c6a": {
          "model_module": "@jupyter-widgets/base",
          "model_name": "LayoutModel",
          "model_module_version": "1.2.0",
          "state": {
            "_model_module": "@jupyter-widgets/base",
            "_model_module_version": "1.2.0",
            "_model_name": "LayoutModel",
            "_view_count": null,
            "_view_module": "@jupyter-widgets/base",
            "_view_module_version": "1.2.0",
            "_view_name": "LayoutView",
            "align_content": null,
            "align_items": null,
            "align_self": null,
            "border": null,
            "bottom": null,
            "display": null,
            "flex": null,
            "flex_flow": null,
            "grid_area": null,
            "grid_auto_columns": null,
            "grid_auto_flow": null,
            "grid_auto_rows": null,
            "grid_column": null,
            "grid_gap": null,
            "grid_row": null,
            "grid_template_areas": null,
            "grid_template_columns": null,
            "grid_template_rows": null,
            "height": null,
            "justify_content": null,
            "justify_items": null,
            "left": null,
            "margin": null,
            "max_height": null,
            "max_width": null,
            "min_height": null,
            "min_width": null,
            "object_fit": null,
            "object_position": null,
            "order": null,
            "overflow": null,
            "overflow_x": null,
            "overflow_y": null,
            "padding": null,
            "right": null,
            "top": null,
            "visibility": null,
            "width": null
          }
        },
        "d2b707c011a14d6a9f369425de16b8f1": {
          "model_module": "@jupyter-widgets/controls",
          "model_name": "DescriptionStyleModel",
          "model_module_version": "1.5.0",
          "state": {
            "_model_module": "@jupyter-widgets/controls",
            "_model_module_version": "1.5.0",
            "_model_name": "DescriptionStyleModel",
            "_view_count": null,
            "_view_module": "@jupyter-widgets/base",
            "_view_module_version": "1.2.0",
            "_view_name": "StyleView",
            "description_width": ""
          }
        }
      }
    }
  },
  "cells": [
    {
      "cell_type": "markdown",
      "metadata": {
        "id": "view-in-github",
        "colab_type": "text"
      },
      "source": [
        "<a href=\"https://colab.research.google.com/github/AlexCHEN-Engineer/CEE314HW/blob/main/Problemset5Q4ConductionTeaching.ipynb\" target=\"_parent\"><img src=\"https://colab.research.google.com/assets/colab-badge.svg\" alt=\"Open In Colab\"/></a>"
      ]
    },
    {
      "cell_type": "markdown",
      "source": [
        "# CEE 314 Computational Poromechanics, Spring 2022\n",
        "Instructor : Prof. Ronaldo Borja \n",
        "\n",
        "TA: Wei Chen"
      ],
      "metadata": {
        "id": "FBv0DP6RPhKw"
      }
    },
    {
      "cell_type": "markdown",
      "source": [
        "# Configure the environment in google colab. \n",
        "Everyone with goole account can have access to the [google colab](https://colab.research.google.com/). Execute the first cell to get Fenics installed."
      ],
      "metadata": {
        "id": "QyYnU2rNPk9z"
      }
    },
    {
      "cell_type": "code",
      "execution_count": null,
      "metadata": {
        "id": "g5lqI17SPQDQ"
      },
      "outputs": [],
      "source": [
        "%%capture\n",
        "# Do not revise here. \n",
        "try:\n",
        "    import google.colab\n",
        "except ImportError:\n",
        "    import ufl\n",
        "    import dolfin\n",
        "    import mshr\n",
        "else:\n",
        "    try:\n",
        "        import ufl\n",
        "        import dolfin\n",
        "        import mshr\n",
        "    except ImportError:\n",
        "        !wget \"https://fem-on-colab.github.io/releases/fenics-install.sh\" -O \"/tmp/fenics-install.sh\" && bash \"/tmp/fenics-install.sh\"\n",
        "        import ufl\n",
        "        import dolfin\n",
        "        import mshr"
      ]
    },
    {
      "cell_type": "markdown",
      "source": [
        "# Import necessary finite element library\n",
        "Import necessary finite element library, which includes `dolphin`, `mshr` and `numpy`. Here, `dolphin` is used to execute the finite element operation such as contructing the variational problem, assembling the equations and solve the linear system. `mshr` is a mesh library to deal with the mesh problems. `numpy` is similar to matlab and will only be used to plot the result."
      ],
      "metadata": {
        "id": "Gg7ghOyAPqI3"
      }
    },
    {
      "cell_type": "code",
      "source": [
        "from dolfin import *\n",
        "from mshr import *\n",
        "import numpy as np\n",
        "import matplotlib.pyplot as plt"
      ],
      "metadata": {
        "id": "vr8VD5p4Pnc2"
      },
      "execution_count": null,
      "outputs": []
    },
    {
      "cell_type": "markdown",
      "source": [
        "## Generate mesh\n",
        "We use the `Sphere` method to generate the mesh we need for this problem."
      ],
      "metadata": {
        "id": "LpHMU-07Pvc_"
      }
    },
    {
      "cell_type": "code",
      "source": [
        "# Create mesh and define expression\n",
        "# Parameters\n",
        "R = 1.\n",
        "\n",
        "# Create geometry\n",
        "s = Sphere(Point(0, 0, 0), 1)\n",
        "\n",
        "# s2 = Sphere(Point(x, y, z), r)\n",
        "b1 = Box(Point(0., 0., 0.), Point(1., 1., 1.))\n",
        "geometry = s*b1\n",
        "\n",
        "# Create mesh\n",
        "mesh = generate_mesh(geometry, 15)\n",
        "plot(mesh)"
      ],
      "metadata": {
        "id": "sBgJyjqePta0"
      },
      "execution_count": null,
      "outputs": []
    },
    {
      "cell_type": "markdown",
      "source": [
        "## Finite element formulation\n",
        "In our current problem, the strong form ($S$) is \\\\\n",
        "Given  $\\bar{q}:\\Gamma_q→\\mathbb{R}$, find $h:\\Omega→\\mathbb{R}$ such that\n",
        "\\begin{equation}\n",
        "\\begin{aligned}\n",
        "& \\cal{S}\\dot{h} = k\\nabla^2 h. \\\\\n",
        "& h = 0\\quad \\text{on} \\quad \\Gamma_h \\\\\n",
        "& k∇h\\cdot \\boldsymbol{n} = \\bar{q}\\quad \\text{on} \\quad \\Gamma_q \\\\\n",
        "& h = h_0\\quad \\text{on}\\quad \\Omega\\quad \\text{when}\\quad t=0 \\\\\n",
        "\\end{aligned}\n",
        "\\end{equation}\n",
        "\n",
        "Recall the trial and weight functions in lectures, where we define:\n",
        "\\begin{equation}\n",
        "\\begin{aligned}\n",
        "& \\cal{T} = \\{h|h\\in H^1,\\ h=0\\quad \\text{on}\\quad \\Gamma_h \\}, \\\\\n",
        "& \\cal{W} = \\{h|h\\in H^1,\\ w=0\\quad \\text{on}\\quad \\Gamma_h \\}.\\\\\n",
        "\\end{aligned}\n",
        "\\end{equation}\n",
        "Note that $\\Gamma_h$ is the boundary with essential boundary conditions. $\\Gamma_q$ is the boundary with natural boundary conditions. $\\Gamma_h\\cup \\Gamma_q=\\Gamma$.\n",
        "\n",
        "Thus, we derive the weak form from the strong form.\n",
        "\\begin{equation}\n",
        "\\begin{aligned}\n",
        "0 &= \\int_{\\Omega}\\delta h(\\cal{S}\\frac{\\partial h}{\\partial t}-k\\nabla^2h)dV\\\\\n",
        "&= \\int_{\\Omega}\\delta h \\cal{S}\\dot{h}dV -\\int_{\\Omega}\\delta h k\\nabla^2hdV \\\\\n",
        "&= \\cal{S}\\int_{\\Omega}\\delta h \\dot{h}dV +k\\int_{\\Omega}\\nabla\\delta h\\cdot\\nabla hdV -k\\int_{\\Gamma_q}\\delta h\\bar{q}dA\\\\\n",
        "\\end{aligned}\n",
        "\\end{equation}\n",
        "\n",
        "To run the finite element code, you need to write out the weak form and complete it in the following cell.\n",
        "\n",
        "Use backward time discretizations to yield numerical result. \n",
        "\\begin{equation}\n",
        "\\cal{S}\\int_{\\Omega}\\delta h \\frac{h_{n+1}-h_n}{\\Delta t}dV +k\\int_{\\Omega}\\nabla\\delta h\\cdot\\nabla h_{n+1}dV -k\\int_{\\Gamma_q}\\delta h\\bar{q}_{n+1}dA= 0\n",
        "\\end{equation}\n"
      ],
      "metadata": {
        "id": "9WfMoatZP1zu"
      }
    },
    {
      "cell_type": "markdown",
      "source": [
        "# Implementation"
      ],
      "metadata": {
        "id": "CnpkYVZyP7Gu"
      }
    },
    {
      "cell_type": "code",
      "source": [
        "##############################\n",
        "## TODO: Set the parameters ##\n",
        "##############################\n",
        "# You need to set different parameters to run the simulation!\n",
        "# T = 1\n",
        "# num_steps = 100\n",
        "\n",
        "dt = T / (1.0*num_steps) #time step size\n",
        "\n",
        "rho_f = 1000\n",
        "\n",
        "E = 10.e7 #Pa\n",
        "nu = 0.0\n",
        "\n",
        "k = 1.15740741e-10 \t#intrinsic permeability\n",
        "mu_l = 1e-2 \t#dynamic viscosity\n",
        "\n",
        "lambda_= E*nu/(1+nu)/(1-2*nu)\n",
        "mu = E/2/(1+nu)\n",
        "K_e = E/3/(1-2*nu)\n",
        "\n",
        "S = rho_f*9.8/K_e"
      ],
      "metadata": {
        "id": "Q-4xuURMs0O0"
      },
      "execution_count": null,
      "outputs": []
    },
    {
      "cell_type": "code",
      "source": [
        "outer =  CompiledSubDomain(\"x[0]*x[0] + x[1]*x[1] + x[2]*x[2] > 0.9\")\n",
        "cutX =  CompiledSubDomain(\"near(x[0], side)\", side = 0.0)\n",
        "cutY =  CompiledSubDomain(\"near(x[1], side)\", side = 0.0)\n",
        "cutZ = CompiledSubDomain(\"near(x[2], side)\", side = 0.0)\n",
        "\n",
        "boundary = MeshFunction('size_t', mesh, mesh.topology().dim()-1)\n",
        "boundary.set_all(1)\n",
        "outer.mark(boundary, 2)\n",
        "ds = Measure('ds', domain = mesh, subdomain_data = boundary)\n",
        "\n",
        "\n",
        "V = FunctionSpace(mesh, 'P', 1)\n",
        "bcp = DirichletBC(V, 0.0, outer) \n",
        "bcs=[bcp]\n",
        "\n",
        "h_initial = Constant(100.)\n",
        "\n",
        "# Define initial value.\n",
        "h_n = interpolate(h_initial, V)\n",
        "h_out = []\n",
        "h_out.append(h_n(0, 0, 0))\n",
        "\n",
        "# Define variational problem\n",
        "# u and v represent the trial function space\n",
        "# and the weight function space.\n",
        "h = TrialFunction(V)\n",
        "v = TestFunction(V)\n",
        "\n",
        "schemes = {\"Forward\", \"Backward\", \"Crank-Nicolson\"}\n",
        "\n",
        "def getVarition(scheme = \"Backward\"):\n",
        "  if scheme not in schemes:\n",
        "    raise Exception(\"Unknow schemes\")\n",
        "\n",
        "  if scheme == \"Forward\":\n",
        "    return k*dt*dot(grad(h_n), grad(v))*dx + S*h*v*dx - S*h_n*v*dx\n",
        "\n",
        "  if scheme == \"Backward\":\n",
        "    return 0.5*k*dt*dot(grad(h+h_n), grad(v))*dx + S*h*v*dx - S*h_n*v*dx\n",
        "\n",
        "  if scheme == \"Crank-Nicolson\":\n",
        "    return k*dt*dot(grad(h), grad(v))*dx + S*h*v*dx - S*h_n*v*dx\n",
        "\n",
        "F = getVarition(\"Backward\")\n",
        "\n",
        "a, L = lhs(F), rhs(F)\n",
        "\n",
        "# create VTK file for saving solution \n",
        "# VTK file can be viewed in paraview. \n",
        "# vtkfile = File('CEE314HW5/solution.pvd')"
      ],
      "metadata": {
        "id": "yC7-EBqYP-_j"
      },
      "execution_count": null,
      "outputs": []
    },
    {
      "cell_type": "code",
      "source": [
        "# define the variables to be solved.\n",
        "h = Function(V)\n",
        "from tqdm import tqdm_notebook\n",
        "for n in tqdm_notebook(range(num_steps)):\n",
        "    solve(a == L, h, bcs)\n",
        "    # vtkfile << (u, t)\n",
        "    # update the history value\n",
        "    h_n.assign(h)\n",
        "    h_out.append(h_n(0, 0, 0))"
      ],
      "metadata": {
        "colab": {
          "base_uri": "https://localhost:8080/",
          "height": 104,
          "referenced_widgets": [
            "5ceac22058ea442b9843f0a261f65916",
            "9244df6c2c0e42cb9efac63144625912",
            "647425e785b847b18fd6acd02bae49b3",
            "ca108e8d3d3d4a388976a96c7efa9939",
            "0e9894d2c06b49c78fbe0385dd2ea107",
            "4cbf8be0cf7d4bfd96e3ef5f5c59ee19",
            "1bda66c6565e4d848d4a8f7ca411c3cf",
            "ca36173f9a184ae495c55b834392b848",
            "582a6bf70cea45de8fe9103b3ac3645d",
            "f457be639a5146b9a328a15bfcad8c6a",
            "d2b707c011a14d6a9f369425de16b8f1"
          ]
        },
        "id": "qt2TZ_D_QD3b",
        "outputId": "ab0c0d4b-f3f9-41f9-dd4d-05d9addbc98a"
      },
      "execution_count": null,
      "outputs": [
        {
          "output_type": "stream",
          "name": "stderr",
          "text": [
            "/usr/local/lib/python3.7/dist-packages/ipykernel_launcher.py:4: TqdmDeprecationWarning: This function will be removed in tqdm==5.0.0\n",
            "Please use `tqdm.notebook.tqdm` instead of `tqdm.tqdm_notebook`\n",
            "  after removing the cwd from sys.path.\n"
          ]
        },
        {
          "output_type": "display_data",
          "data": {
            "text/plain": [
              "  0%|          | 0/1000 [00:00<?, ?it/s]"
            ],
            "application/vnd.jupyter.widget-view+json": {
              "version_major": 2,
              "version_minor": 0,
              "model_id": "5ceac22058ea442b9843f0a261f65916"
            }
          },
          "metadata": {}
        }
      ]
    },
    {
      "cell_type": "markdown",
      "source": [
        "### Postprocessing\n",
        "Get the centerline pore pressure distribution after 11.57 days."
      ],
      "metadata": {
        "id": "CKzedtesQIZm"
      }
    },
    {
      "cell_type": "code",
      "source": [
        "time = np.linspace(0,100,1001)\n",
        "plt.xlabel(r\"time, $s$\")\n",
        "plt.ylabel(r\"pore pressure, $kPa$\")\n",
        "plt.plot(time, h_out, 'k')"
      ],
      "metadata": {
        "id": "-V_f49zXQF1l"
      },
      "execution_count": null,
      "outputs": []
    },
    {
      "cell_type": "code",
      "source": [
        ""
      ],
      "metadata": {
        "id": "nFfI5ZgTQcS3"
      },
      "execution_count": null,
      "outputs": []
    }
  ]
}