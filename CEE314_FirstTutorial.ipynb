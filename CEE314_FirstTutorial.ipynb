{
  "nbformat": 4,
  "nbformat_minor": 0,
  "metadata": {
    "colab": {
      "name": "CEE314-FirstTutorial.ipynb",
      "provenance": [],
      "authorship_tag": "ABX9TyN4Imnei1eEHQ8bsv16FqU1",
      "include_colab_link": true
    },
    "kernelspec": {
      "name": "python3",
      "display_name": "Python 3"
    },
    "language_info": {
      "name": "python"
    }
  },
  "cells": [
    {
      "cell_type": "markdown",
      "metadata": {
        "id": "view-in-github",
        "colab_type": "text"
      },
      "source": [
        "<a href=\"https://colab.research.google.com/github/AlexCHEN-Engineer/CEE314HW/blob/main/CEE314_FirstTutorial.ipynb\" target=\"_parent\"><img src=\"https://colab.research.google.com/assets/colab-badge.svg\" alt=\"Open In Colab\"/></a>"
      ]
    },
    {
      "cell_type": "markdown",
      "source": [
        "## Install the fenics library.\n",
        "**Do not modify it**"
      ],
      "metadata": {
        "id": "N218v5NO74Gf"
      }
    },
    {
      "cell_type": "code",
      "execution_count": 1,
      "metadata": {
        "id": "f83BVPF6cKNg",
        "colab": {
          "base_uri": "https://localhost:8080/"
        },
        "outputId": "28d89da8-f90e-4b22-afb9-75bbfc42afba"
      },
      "outputs": [
        {
          "output_type": "stream",
          "name": "stdout",
          "text": [
            "CPU times: user 2 µs, sys: 0 ns, total: 2 µs\n",
            "Wall time: 5.01 µs\n"
          ]
        }
      ],
      "source": [
        "%time\n",
        "# Do not revise here. \n",
        "try:\n",
        "    import google.colab\n",
        "except ImportError:\n",
        "    import ufl\n",
        "    import dolfin\n",
        "    import mshr\n",
        "else:\n",
        "    try:\n",
        "        import ufl\n",
        "        import dolfin\n",
        "        import mshr\n",
        "    except ImportError:\n",
        "        !wget \"https://fem-on-colab.github.io/releases/fenics-install.sh\" -O \"/tmp/fenics-install.sh\" && bash \"/tmp/fenics-install.sh\"\n",
        "        import ufl\n",
        "        import dolfin\n",
        "        import mshr"
      ]
    },
    {
      "cell_type": "markdown",
      "source": [
        "# Import necessay Python modules or function to use. "
      ],
      "metadata": {
        "id": "a-Y3hjLuztfN"
      }
    },
    {
      "cell_type": "code",
      "source": [
        "# All FEM related functions and class.\n",
        "from dolfin import *\n",
        "\n",
        "# To plot the data.\n",
        "import matplotlib.pyplot as plt"
      ],
      "metadata": {
        "id": "MnvOM6stcMZE"
      },
      "execution_count": 2,
      "outputs": []
    },
    {
      "cell_type": "markdown",
      "source": [
        "# Define the mesh"
      ],
      "metadata": {
        "id": "jIeYMZlz0BGN"
      }
    },
    {
      "cell_type": "code",
      "source": [
        "# Create mesh and define function space\n",
        "# We define a square with 1x1 with 128 triangles.\n",
        "mesh = UnitSquareMesh(8, 8)\n",
        "\n",
        "# Use first order polynomial interpolation.\n",
        "V = FunctionSpace(mesh, 'P', 1)\n",
        "plot(mesh)"
      ],
      "metadata": {
        "colab": {
          "base_uri": "https://localhost:8080/",
          "height": 300
        },
        "id": "oActkV1CzoKg",
        "outputId": "54131ead-c3e3-4d20-8fad-2dfac4d7925b"
      },
      "execution_count": 3,
      "outputs": [
        {
          "output_type": "execute_result",
          "data": {
            "text/plain": [
              "[<matplotlib.lines.Line2D at 0x7fd0dc837090>,\n",
              " <matplotlib.lines.Line2D at 0x7fd0dc79ed90>]"
            ]
          },
          "metadata": {},
          "execution_count": 3
        },
        {
          "output_type": "display_data",
          "data": {
            "text/plain": [
              "<Figure size 432x288 with 1 Axes>"
            ],
            "image/png": "[encoded data removed]"
          },
          "metadata": {
            "needs_background": "light"
          }
        }
      ]
    },
    {
      "cell_type": "markdown",
      "source": [
        "## FEM formulation\n",
        "In this tutorial, we are solving a partial differential equation with the following (S) strong form. For $u:\\Omega→\\mathbb{R}$ with boundary $\\partial\\Omega = \\Gamma = \\Gamma_D\\cup\\Gamma_N$: \n",
        "\\begin{equation}\n",
        "\\begin{aligned}\n",
        "& -\\nabla^2 u = f\\quad in\\quad \\Omega \\\\\n",
        "& u = 0 \\quad on \\quad \\Gamma_D \\\\\n",
        "& \\nabla u \\cdot \\boldsymbol{n} = g \\quad on \\quad \\Gamma_N\n",
        "\\end{aligned}\n",
        "\\end{equation}\n",
        "\n",
        "\n",
        "According to the strong form, we develop the variational formulation as\n",
        "\\begin{equation}\n",
        "\\begin{aligned}\n",
        " 0 & = \\int_{\\Omega}\\nabla^2 u \\delta u dV + \\int_\\Omega f\\delta udV\\\\\n",
        "   & = \\int_{\\Omega}\\nabla\\cdot(\\nabla u \\delta u) dV - \\int_{\\Omega}\\nabla u\\cdot\\nabla\\delta u dV + \\int_\\Omega f\\delta udV \\\\\n",
        "  & = - \\int_{\\Omega}\\nabla u\\cdot\\nabla\\delta u dV + \\int_\\Omega f\\delta udV + \\int_{\\Gamma_D}g\\delta u dA \n",
        "\\end{aligned}\n",
        "\\end{equation}\n",
        "\n",
        "Thus, we get our variational formulation above."
      ],
      "metadata": {
        "id": "sgpcLopN0ndk"
      }
    },
    {
      "cell_type": "markdown",
      "source": [
        "## Define the Dirichlet and Neumann BCs"
      ],
      "metadata": {
        "id": "U2rjw3oE3XcF"
      }
    },
    {
      "cell_type": "code",
      "source": [
        "# This defins the dirichlet boundary conditions\n",
        "def boundary_D(x):\n",
        "  return x[0] < DOLFIN_EPS or x[0] > 1-DOLFIN_EPS"
      ],
      "metadata": {
        "id": "6IIjvn7-0lrC"
      },
      "execution_count": 4,
      "outputs": []
    },
    {
      "cell_type": "markdown",
      "source": [
        "## Construct the variational formulation"
      ],
      "metadata": {
        "id": "TjDH9fiH6Qy5"
      }
    },
    {
      "cell_type": "code",
      "source": [
        "# Define boundary condition\n",
        "u_D = Expression('t', degree = 1, t = 0)\n",
        "\n",
        "bcs = DirichletBC(V, u_D, boundary_D)\n",
        "\n",
        "# Define variational problem\n",
        "u = TrialFunction(V)\n",
        "v = TestFunction(V)\n",
        "f = Constant(5.0)\n",
        "g = Constant(10.)\n",
        "a = dot(grad(u), grad(v))*dx\n",
        "L = f*v*dx + g*v*ds"
      ],
      "metadata": {
        "id": "cR_MuQQbdH0-"
      },
      "execution_count": 5,
      "outputs": []
    },
    {
      "cell_type": "markdown",
      "source": [
        "## Solve and postprocessing"
      ],
      "metadata": {
        "id": "LmVSWASP6bXS"
      }
    },
    {
      "cell_type": "code",
      "source": [
        "# Compute solution\n",
        "u = Function(V)\n",
        "solve(a == L, u, bcs)\n",
        "\n",
        "# Save solution to file in VTK format\n",
        "# vtkfile = File('poisson/solution.pvd')\n",
        "# vtkfile << u\n",
        "# Hold plot\n",
        "c=plot(u)\n",
        "plt.colorbar(c)\n",
        "plt.show()"
      ],
      "metadata": {
        "colab": {
          "base_uri": "https://localhost:8080/",
          "height": 269
        },
        "id": "UyOVahRr6Z94",
        "outputId": "0e4e4b43-08b7-4e24-ed5f-a020c6370576"
      },
      "execution_count": 6,
      "outputs": [
        {
          "output_type": "display_data",
          "data": {
            "text/plain": [
              "<Figure size 432x288 with 2 Axes>"
            ],
            "image/png": "[encoded data removed]"
          },
          "metadata": {
            "needs_background": "light"
          }
        }
      ]
    },
    {
      "cell_type": "markdown",
      "source": [
        "## Get access to the value at any point within the domain"
      ],
      "metadata": {
        "id": "jdQKPcFy7r7z"
      }
    },
    {
      "cell_type": "code",
      "source": [
        "u(0.5, 0.5)"
      ],
      "metadata": {
        "id": "9Q5jkAKBCCGa",
        "colab": {
          "base_uri": "https://localhost:8080/"
        },
        "outputId": "f8ac03ea-8f36-4802-8d02-efa599052208"
      },
      "execution_count": 7,
      "outputs": [
        {
          "output_type": "execute_result",
          "data": {
            "text/plain": [
              "2.3696608956132317"
            ]
          },
          "metadata": {},
          "execution_count": 7
        }
      ]
    },
    {
      "cell_type": "code",
      "source": [
        ""
      ],
      "metadata": {
        "id": "O8VlyLWa7xBa"
      },
      "execution_count": 7,
      "outputs": []
    }
  ]
}